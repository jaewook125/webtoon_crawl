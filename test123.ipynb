{
 "cells": [
  {
   "cell_type": "code",
   "execution_count": 71,
   "metadata": {
    "collapsed": false,
    "scrolled": false
   },
   "outputs": [
    {
     "name": "stdout",
     "output_type": "stream",
     "text": [
      "http://thumb.comic.naver.net/webtoon/650305/143/thumbnail_202x120_8b6cc991-b964-4849-950b-2c56578e6710.jpg\n",
      "2부60화 추이의 불2\n",
      "http://thumb.comic.naver.net/webtoon/650305/142/thumbnail_202x120_79b56cbe-28d6-4427-a6d0-4a9c739ec1ff.jpg\n",
      "2부59화 추이의 불1\n",
      "http://thumb.comic.naver.net/webtoon/650305/141/thumbnail_202x120_e7ce066d-ee73-4d4f-b799-2905069a08b4.jpg\n",
      "2부58화 수구(讐仇)4\n",
      "http://thumb.comic.naver.net/webtoon/650305/140/thumbnail_202x120_689d6c4a-3e67-4a83-ab2f-9bde29cd75eb.jpg\n",
      "2부57화 수구(讐仇)3\n",
      "http://thumb.comic.naver.net/webtoon/650305/139/thumbnail_202x120_ffb1ec4f-75be-4c75-a564-1095cfb3a490.jpg\n",
      "2부56화 수구(讐仇)2\n",
      "http://thumb.comic.naver.net/webtoon/650305/138/thumbnail_202x120_4ea2bceb-cdee-4474-b035-32ccab733b8c.jpg\n",
      "2부55화 수구(讐仇)1\n",
      "http://thumb.comic.naver.net/webtoon/650305/137/thumbnail_202x120_9899681b-e7f4-4a2a-a2bb-f30360f4346f.jpg\n",
      "2부54화 탈주3\n",
      "http://thumb.comic.naver.net/webtoon/650305/136/thumbnail_202x120_cfd91e89-9468-4214-b4e4-ca4c6b849c68.jpg\n",
      "2부53화 탈주2\n",
      "http://thumb.comic.naver.net/webtoon/650305/135/thumbnail_202x120_d45cff71-5418-45e4-8901-7ec395df42cc.jpg\n",
      "2부52화 탈주1\n",
      "http://thumb.comic.naver.net/webtoon/650305/134/thumbnail_202x120_3eaaf58f-6341-4776-a30f-595e3d8fcfad.jpg\n",
      "2부51화 무케를 구해라! 2\n"
     ]
    }
   ],
   "source": [
    "# coding: utf8\n",
    "import urllib\n",
    "import requests\n",
    "from bs4 import BeautifulSoup\n",
    "\n",
    "HOST = \"http://comic.naver.com\"\n",
    "\n",
    "is_next = True\n",
    "page = 1\n",
    "while is_next:\n",
    "    params = dict(\n",
    "        titleId='650305', #마음의소리\n",
    "        page='1'\n",
    "    )\n",
    "    url =  HOST + \"/webtoon/list.nhn?titleId=650305&weekday=tue&page={}\".format(page)\n",
    "    res = requests.get(url, params=params)\n",
    "    html = res.text\n",
    "    soup = BeautifulSoup(html, 'html.parser')\n",
    "    for tag_a in soup.select(\"table.viewList tr > td:nth-of-type(1)\"):\n",
    "        tag_img = tag_a.find('img')\n",
    "        if tag_img:\n",
    "            print(tag_img['src'])\n",
    "            print(tag_img['title'])\n",
    "\n",
    "    is_next = bool(soup.select('div.pagenavigation a.next'))\n",
    "    page += 1"
   ]
  },
  {
   "cell_type": "code",
   "execution_count": 2,
   "metadata": {
    "collapsed": true
   },
   "outputs": [],
   "source": []
  },
  {
   "cell_type": "code",
   "execution_count": 5,
   "metadata": {
    "collapsed": false
   },
   "outputs": [],
   "source": []
  },
  {
   "cell_type": "code",
   "execution_count": null,
   "metadata": {
    "collapsed": true
   },
   "outputs": [],
   "source": []
  },
  {
   "cell_type": "code",
   "execution_count": null,
   "metadata": {
    "collapsed": true
   },
   "outputs": [],
   "source": []
  }
 ],
 "metadata": {
  "kernelspec": {
   "display_name": "Python 3",
   "language": "python",
   "name": "python3"
  },
  "language_info": {
   "codemirror_mode": {
    "name": "ipython",
    "version": 3
   },
   "file_extension": ".py",
   "mimetype": "text/x-python",
   "name": "python",
   "nbconvert_exporter": "python",
   "pygments_lexer": "ipython3",
   "version": "3.6.0"
  }
 },
 "nbformat": 4,
 "nbformat_minor": 2
}
