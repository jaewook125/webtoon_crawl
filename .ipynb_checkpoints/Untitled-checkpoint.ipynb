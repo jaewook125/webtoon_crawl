{
 "cells": [
  {
   "cell_type": "code",
   "execution_count": 14,
   "metadata": {
    "collapsed": false
   },
   "outputs": [],
   "source": [
    "import requests\n",
    "from bs4 import BeautifulSoup"
   ]
  },
  {
   "cell_type": "code",
   "execution_count": 15,
   "metadata": {
    "collapsed": true
   },
   "outputs": [],
   "source": [
    "list_url = 'http://comic.naver.com/webtoon/list.nhn'\n",
    "params = {\n",
    "    'titleId' : 20853,\n",
    "    'page': 1,\n",
    "}\n",
    "\n",
    "html = requests.get(list_url, params=params).text\n",
    "soup = BeautifulSoup(html, 'html.parser')"
   ]
  },
  {
   "cell_type": "code",
   "execution_count": 19,
   "metadata": {
    "collapsed": false
   },
   "outputs": [],
   "source": [
    "for tag in soup.select('viewList tr'):\n",
    "    try:\n",
    "        a_tag = tag.select('a[href*=detail.nhn]')[0]\n",
    "    except IndexError:\n",
    "        continue\n",
    "        \n",
    "    img_tag = a_tag.find('img')\n",
    "    \n",
    "    ep_url = a_tag['href']\n",
    "    ep_name = img_tag['title']\n",
    "    img_url = img_tag['src']\n",
    "    \n",
    "    print(ep_name, img_url, ep_url)"
   ]
  },
  {
   "cell_type": "code",
   "execution_count": null,
   "metadata": {
    "collapsed": true
   },
   "outputs": [],
   "source": []
  },
  {
   "cell_type": "code",
   "execution_count": null,
   "metadata": {
    "collapsed": true
   },
   "outputs": [],
   "source": []
  }
 ],
 "metadata": {
  "kernelspec": {
   "display_name": "Python 3",
   "language": "python",
   "name": "python3"
  },
  "language_info": {
   "codemirror_mode": {
    "name": "ipython",
    "version": 3
   },
   "file_extension": ".py",
   "mimetype": "text/x-python",
   "name": "python",
   "nbconvert_exporter": "python",
   "pygments_lexer": "ipython3",
   "version": "3.6.0"
  }
 },
 "nbformat": 4,
 "nbformat_minor": 2
}
